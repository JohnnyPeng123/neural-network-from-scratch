{
  "nbformat": 4,
  "nbformat_minor": 0,
  "metadata": {
    "colab": {
      "name": "Without BatchNorm (1).ipynb",
      "version": "0.3.2",
      "provenance": [],
      "collapsed_sections": []
    },
    "language_info": {
      "codemirror_mode": {
        "name": "ipython",
        "version": 3
      },
      "file_extension": ".py",
      "mimetype": "text/x-python",
      "name": "python",
      "nbconvert_exporter": "python",
      "pygments_lexer": "ipython3",
      "version": "3.6.5"
    },
    "kernelspec": {
      "display_name": "Python 3",
      "language": "python",
      "name": "python3"
    }
  },
  "cells": [
    {
      "metadata": {
        "id": "ymTFgzMMX1bP",
        "colab_type": "code",
        "colab": {}
      },
      "cell_type": "code",
      "source": [
        "import numpy as np\n",
        "import matplotlib.pyplot as plt\n",
        "import scipy.io\n",
        "import math\n",
        "import h5py "
      ],
      "execution_count": 0,
      "outputs": []
    },
    {
      "metadata": {
        "id": "ck_fJf_TYAxH",
        "colab_type": "code",
        "colab": {}
      },
      "cell_type": "code",
      "source": [
        "# Code to download file into Colaboratory:\n",
        "!pip install -U -q PyDrive\n",
        "from pydrive.auth import GoogleAuth\n",
        "from pydrive.drive import GoogleDrive\n",
        "from google.colab import auth\n",
        "from oauth2client.client import GoogleCredentials\n",
        "# Authenticate and create the PyDrive client.\n",
        "auth.authenticate_user()\n",
        "gauth = GoogleAuth()\n",
        "gauth.credentials = GoogleCredentials.get_application_default()\n",
        "drive = GoogleDrive(gauth)"
      ],
      "execution_count": 0,
      "outputs": []
    },
    {
      "metadata": {
        "id": "paQaJdtDYA-1",
        "colab_type": "code",
        "colab": {}
      },
      "cell_type": "code",
      "source": [
        "import h5py\n",
        "import numpy as np\n",
        "import pandas as pd\n",
        "\n",
        "#TRAIN DATA\n",
        "id = '1oLVjnnlTBxxX8OfRecVlanSlmdcA9fkm'\n",
        "downloaded = drive.CreateFile({'id':id}) \n",
        "downloaded.GetContentFile('train_128.h5')  \n",
        "\n",
        "with h5py.File(\"train_128.h5\",'r') as train_data: \n",
        "    train_data = np.copy(train_data['data'])\n",
        "    \n",
        "#TRAIN LABELS\n",
        "id = '1RezpKoYEfht7eIFcZsO0FUZUXuJukmZV'\n",
        "downloaded = drive.CreateFile({'id':id}) \n",
        "downloaded.GetContentFile('train_label.h5')  \n",
        "\n",
        "with h5py.File(\"train_label.h5\",'r') as train_label:\n",
        "    train_label = np.copy(train_label['label'])\n",
        "    \n",
        "#TEST DATA\n",
        "id = '1E3r8QluNG5kqldIkAKlZRbORYLe7mHLP'\n",
        "downloaded = drive.CreateFile({'id':id}) \n",
        "downloaded.GetContentFile('test_128.h5')  \n",
        "\n",
        "with h5py.File(\"test_128.h5\",'r') as test_data:\n",
        "    test_data = np.copy(test_data['data'])"
      ],
      "execution_count": 0,
      "outputs": []
    },
    {
      "metadata": {
        "id": "aa8-EtONX1bV",
        "colab_type": "code",
        "colab": {}
      },
      "cell_type": "code",
      "source": [
        "\n",
        "f1 = h5py.File('train_128.h5', 'r')\n",
        "list(f1.keys())\n",
        "X1 = f1['data']\n",
        "X_full= np.array(X1.value)\n",
        "\n",
        "f1 = h5py.File('train_128.h5', 'r')\n",
        "list(f1.keys())\n",
        "X1 = f1['data']\n",
        "test_X= np.array(X1.value)"
      ],
      "execution_count": 0,
      "outputs": []
    },
    {
      "metadata": {
        "id": "nqTgLShhX1bX",
        "colab_type": "code",
        "colab": {}
      },
      "cell_type": "code",
      "source": [
        "f1 = h5py.File('train_label.h5', 'r')\n",
        "list(f1.keys())\n",
        "Y1 = f1['label']\n",
        "Y_full= np.array(Y1.value)"
      ],
      "execution_count": 0,
      "outputs": []
    },
    {
      "metadata": {
        "id": "G_zq6VH1X1bZ",
        "colab_type": "code",
        "colab": {}
      },
      "cell_type": "code",
      "source": [
        "def oneHotIt(Y):\n",
        "    m = Y.shape[0]\n",
        "    #Y = Y[:,0]\n",
        "    OHX = scipy.sparse.csr_matrix((np.ones(m), (Y, np.array(range(m)))))\n",
        "    OHX = np.array(OHX.todense()).T\n",
        "    return OHX\n",
        "\n",
        "def normalize(X):\n",
        "    mu_train = np.mean(X,axis=0,keepdims=True)\n",
        "    var_train = np.var(X,axis=0,keepdims=True)\n",
        "    X_norm = (X-mu_train) / np.sqrt(var_train)\n",
        "    \n",
        "    return X_norm, mu_train, var_train\n",
        "\n",
        "def normalize_test(X_norm, mu_train, var_train):\n",
        "    X_norm = (X_norm-mu_train) / np.sqrt(var_train)\n",
        "    \n",
        "    return X_norm"
      ],
      "execution_count": 0,
      "outputs": []
    },
    {
      "metadata": {
        "id": "D-6DkWfmX1bb",
        "colab_type": "code",
        "colab": {
          "base_uri": "https://localhost:8080/",
          "height": 86
        },
        "outputId": "b3142110-d81f-442a-b038-d2f0d4d9d8d8"
      },
      "cell_type": "code",
      "source": [
        "train_X = X_full[0:50000]\n",
        "train_X, mu_train, var_train = normalize(train_X)\n",
        "train_X = train_X.T\n",
        "\n",
        "train_Y = Y_full[0:50000]\n",
        "train_Y = oneHotIt(train_Y).T\n",
        "\n",
        "dev_X = X_full[50000:]\n",
        "dev_X = normalize_test(dev_X,mu_train,var_train)\n",
        "dev_X = dev_X.T\n",
        "\n",
        "dev_Y = Y_full[50000:]\n",
        "dev_Y = oneHotIt(dev_Y).T\n",
        "\n",
        "print(train_X.shape)\n",
        "print(train_Y.shape)\n",
        "print(dev_X.shape)\n",
        "print(dev_Y.shape)\n",
        "\n",
        "test_X = normalize_test(test_X,mu_train,var_train)\n",
        "test_X = test_X.T"
      ],
      "execution_count": 24,
      "outputs": [
        {
          "output_type": "stream",
          "text": [
            "(128, 50000)\n",
            "(10, 50000)\n",
            "(128, 10000)\n",
            "(10, 10000)\n"
          ],
          "name": "stdout"
        }
      ]
    },
    {
      "metadata": {
        "id": "NvKRaV2zX1be",
        "colab_type": "code",
        "colab": {}
      },
      "cell_type": "code",
      "source": [
        "def compute_cost(a3, Y):\n",
        "    \"\"\"\n",
        "    Computes the cost\n",
        "    \n",
        "    Arguments:\n",
        "    a3 -- output of forward propagation (output of the last LINEAR unit), of shape (6, number of examples)\n",
        "    Y -- \"true\" labels vector placeholder, same shape as Z3\n",
        "    \n",
        "    Returns:\n",
        "    cost - Tensor of the cost function\n",
        "    \"\"\"\n",
        "    \n",
        "    logits = a3.T\n",
        "    labels = Y.T\n",
        "    \n",
        "    cost = -np.sum((np.log(np.sum(labels*logits,axis=1, keepdims=True))))/logits.shape[0]\n",
        "\n",
        "    return cost"
      ],
      "execution_count": 0,
      "outputs": []
    },
    {
      "metadata": {
        "id": "wbdoUw24X1bg",
        "colab_type": "code",
        "colab": {}
      },
      "cell_type": "code",
      "source": [
        "def softmax(x):\n",
        "    \"\"\"Compute softmax values for each sets of scores in x.\"\"\"\n",
        "    e_x = np.exp(x - np.max(x, axis=1, keepdims=True))\n",
        "    return e_x / np.sum(e_x, axis=1, keepdims=True)\n",
        "\n",
        "def relu(x):\n",
        "    \"\"\"\n",
        "    Compute the relu of x\n",
        "\n",
        "    Arguments:\n",
        "    x -- A scalar or numpy array of any size.\n",
        "\n",
        "    Return:\n",
        "    s -- relu(x)\n",
        "    \"\"\"\n",
        "    s = np.maximum(0,x)\n",
        "    \n",
        "    return s\n",
        "\n",
        "def initialize_parameters(layer_dims):\n",
        "    \"\"\"\n",
        "    Arguments:\n",
        "    layer_dims -- python array (list) containing the dimensions of each layer in our network\n",
        "    \n",
        "    Returns:\n",
        "    parameters -- python dictionary containing your parameters \"W1\", \"b1\", ..., \"WL\", \"bL\":\n",
        "                    W1 -- weight matrix of shape (layer_dims[l], layer_dims[l-1])\n",
        "                    b1 -- bias vector of shape (layer_dims[l], 1)\n",
        "                    Wl -- weight matrix of shape (layer_dims[l-1], layer_dims[l])\n",
        "                    bl -- bias vector of shape (1, layer_dims[l])\n",
        "                    \n",
        "    Tips:\n",
        "    - For example: the layer_dims for the \"Planar Data classification model\" would have been [2,2,1]. \n",
        "    This means W1's shape was (2,2), b1 was (1,2), W2 was (2,1) and b2 was (1,1). Now you have to generalize it!\n",
        "    - In the for loop, use parameters['W' + str(l)] to access Wl, where l is the iterative integer.\n",
        "    \"\"\"\n",
        "    \n",
        "    np.random.seed(3)\n",
        "    parameters = {}\n",
        "    L = len(layer_dims) # number of layers in the network\n",
        "\n",
        "    for l in range(1, L):\n",
        "        parameters['W' + str(l)] = np.random.randn(layer_dims[l], layer_dims[l-1])*  np.sqrt(2 / layer_dims[l-1])\n",
        "        parameters['b' + str(l)] = np.zeros((layer_dims[l], 1))\n",
        "        \n",
        "    return parameters\n",
        "\n",
        "def forward_propagation(X, parameters):\n",
        "    \"\"\"\n",
        "    Implements the forward propagation (and computes the loss) presented in Figure 2.\n",
        "    \n",
        "    Arguments:\n",
        "    X -- input dataset, of shape (input size, number of examples)\n",
        "    parameters -- python dictionary containing your parameters \"W1\", \"b1\", \"W2\", \"b2\", \"W3\", \"b3\":\n",
        "                    W1 -- weight matrix of shape ()\n",
        "                    b1 -- bias vector of shape ()\n",
        "                    W2 -- weight matrix of shape ()\n",
        "                    b2 -- bias vector of shape ()\n",
        "                    W3 -- weight matrix of shape ()\n",
        "                    b3 -- bias vector of shape ()\n",
        "    \n",
        "    Returns:\n",
        "    loss -- the loss function (vanilla logistic loss)\n",
        "    \"\"\"\n",
        "    \n",
        "    # retrieve parameters\n",
        "    W1 = parameters[\"W1\"]\n",
        "    b1 = parameters[\"b1\"]\n",
        "    W2 = parameters[\"W2\"]\n",
        "    b2 = parameters[\"b2\"]\n",
        "    W3 = parameters[\"W3\"]\n",
        "    b3 = parameters[\"b3\"]\n",
        "    \n",
        "    # LINEAR -> Batch-Norm -> RELU -> LINEAR -> Batch-Norm -> RELU -> LINEAR -> Batch-Norm -> SOFTMAX\n",
        "    z1 = np.dot(W1, X) + b1\n",
        "    a1 = relu(z1)\n",
        "    z2 = np.dot(W2, a1) + b2\n",
        "    a2 = relu(z2)\n",
        "    z3 = np.dot(W3, a2) + b3\n",
        "    a3 = softmax(z3.T).T\n",
        "    \n",
        "    cache = (z1, a1, W1, b1, z2, a2, W2, b2, z3, a3, W3, b3)\n",
        "    \n",
        "    return a3, cache\n",
        "\n",
        "def backward_propagation(X, Y, cache):\n",
        "    \"\"\"\n",
        "    Implement the backward propagation presented in figure 2.\n",
        "    \n",
        "    Arguments:\n",
        "    X -- input dataset, of shape (input size, number of examples)\n",
        "    Y -- true \"label\" vector (containing 0 if cat, 1 if non-cat)\n",
        "    cache -- cache output from forward_propagation()\n",
        "    \n",
        "    Returns:\n",
        "    gradients -- A dictionary with the gradients with respect to each parameter, activation and pre-activation variables\n",
        "    \"\"\"\n",
        "    m = X.shape[1]\n",
        "    (z1, a1, W1, b1, z2, a2, W2, b2, z3, a3, W3, b3) = cache\n",
        "    \n",
        "    dz3 = a3 - Y\n",
        "    dW3 = np.dot(dz3, a2.T)\n",
        "    db3 = np.sum(dz3, axis=1, keepdims = True)\n",
        "    \n",
        "    da2 = np.dot(W3.T, dz3)\n",
        "    dz2 = np.multiply(da2, np.int64(a2 > 0))\n",
        "    dW2 = np.dot(dz2, a1.T)\n",
        "    db2 = np.sum(dz2, axis=1, keepdims = True)\n",
        "    \n",
        "    da1 = np.dot(W2.T, dz2)\n",
        "    dz1 = np.multiply(da1, np.int64(a1 > 0))\n",
        "    dW1 = np.dot(dz1, X.T)\n",
        "    db1 = np.sum(dz1, axis=1, keepdims = True)\n",
        "    \n",
        "    gradients = {\"dz3\": dz3, \"dW3\": dW3, \"db3\": db3,\n",
        "                 \"da2\": da2, \"dz2\": dz2, \"dW2\": dW2, \"db2\": db2,\n",
        "                 \"da1\": da1, \"dz1\": dz1, \"dW1\": dW1, \"db1\": db1}\n",
        "    \n",
        "    return gradients\n",
        "\n",
        "def predict(X, y, parameters):\n",
        "    \"\"\"\n",
        "    This function is used to predict the results of a  n-layer neural network.\n",
        "    \n",
        "    Arguments:\n",
        "    X -- data set of examples you would like to label\n",
        "    parameters -- parameters of the trained model\n",
        "    \n",
        "    Returns:\n",
        "    p -- predictions for the given dataset X\n",
        "    \"\"\"\n",
        "    \n",
        "    m = X.shape[1]\n",
        "    p = np.zeros((10,m), dtype = np.int)\n",
        "    accuracy = 0 \n",
        "    \n",
        "    # Forward propagation\n",
        "    a3, caches = forward_propagation(X, parameters)\n",
        "    \n",
        "    # convert probas to 0/1 predictions\n",
        "    for j in range(0,10):\n",
        "        for i in range(0, a3.shape[1]):\n",
        "            if a3[j,i] == np.max(a3[:,i]):\n",
        "                p[j,i] = 1\n",
        "            else:\n",
        "                p[j,i] = 0\n",
        "    \n",
        "    for i in range(0,a3.shape[1]):\n",
        "        accuracy += (p[:,i] == y[:,i]).all()\n",
        "    accuracy = accuracy / a3.shape[1]\n",
        "    print(\"Accuracy: \"  + str(accuracy))\n",
        "    \n",
        "    return p\n"
      ],
      "execution_count": 0,
      "outputs": []
    },
    {
      "metadata": {
        "id": "hcnDFU5VX1bh",
        "colab_type": "code",
        "colab": {}
      },
      "cell_type": "code",
      "source": [
        "def backward_propagation_with_regularization(X, Y, cache, lambd):\n",
        "    \"\"\"\n",
        "    Implements the backward propagation of our baseline model to which we added an L2 regularization.\n",
        "    \n",
        "    Arguments:\n",
        "    X -- input dataset, of shape (input size, number of examples)\n",
        "    Y -- \"true\" labels vector, of shape (output size, number of examples)\n",
        "    cache -- cache output from forward_propagation()\n",
        "    lambd -- regularization hyperparameter, scalar\n",
        "    \n",
        "    Returns:\n",
        "    gradients -- A dictionary with the gradients with respect to each parameter, activation and pre-activation variables\n",
        "    \"\"\"\n",
        "    \n",
        "    m = X.shape[1]\n",
        "    (Z1, A1, W1, b1, Z2, A2, W2, b2, Z3, A3, W3, b3) = cache\n",
        "    \n",
        "    dZ3 = A3 - Y\n",
        "    dW3 = 1./m * np.dot(dZ3, A2.T) + W3*lambd/m\n",
        "    db3 = 1./m * np.sum(dZ3, axis=1, keepdims = True)\n",
        "    \n",
        "    dA2 = np.dot(W3.T, dZ3)\n",
        "    dZ2 = np.multiply(dA2, np.int64(A2 > 0))\n",
        "    dW2 = 1./m * np.dot(dZ2, A1.T) + W2*lambd/m\n",
        "    db2 = 1./m * np.sum(dZ2, axis=1, keepdims = True)\n",
        "    \n",
        "    dA1 = np.dot(W2.T, dZ2)\n",
        "    dZ1 = np.multiply(dA1, np.int64(A1 > 0))\n",
        "    dW1 = 1./m * np.dot(dZ1, X.T) + W1*lambd/m\n",
        "    db1 = 1./m * np.sum(dZ1, axis=1, keepdims = True)\n",
        "    \n",
        "    gradients = {\"dZ3\": dZ3, \"dW3\": dW3, \"db3\": db3,\"dA2\": dA2,\n",
        "                 \"dZ2\": dZ2, \"dW2\": dW2, \"db2\": db2, \"dA1\": dA1, \n",
        "                 \"dZ1\": dZ1, \"dW1\": dW1, \"db1\": db1}\n",
        "    \n",
        "    return gradients"
      ],
      "execution_count": 0,
      "outputs": []
    },
    {
      "metadata": {
        "id": "u5BYAkN_X1bj",
        "colab_type": "code",
        "colab": {}
      },
      "cell_type": "code",
      "source": [
        "def forward_propagation_with_dropout(X, parameters, keep_prob = 0.5):\n",
        "    \"\"\"\n",
        "    Implements the forward propagation: LINEAR -> RELU + DROPOUT -> LINEAR -> RELU + DROPOUT -> LINEAR -> SIGMOID.\n",
        "    \n",
        "    Arguments:\n",
        "    X -- input dataset, of shape (2, number of examples)\n",
        "    parameters -- python dictionary containing your parameters \"W1\", \"b1\", \"W2\", \"b2\", \"W3\", \"b3\":\n",
        "                    W1 -- weight matrix of shape (20, 2)\n",
        "                    b1 -- bias vector of shape (20, 1)\n",
        "                    W2 -- weight matrix of shape (3, 20)\n",
        "                    b2 -- bias vector of shape (3, 1)\n",
        "                    W3 -- weight matrix of shape (1, 3)\n",
        "                    b3 -- bias vector of shape (1, 1)\n",
        "    keep_prob - probability of keeping a neuron active during drop-out, scalar\n",
        "    \n",
        "    Returns:\n",
        "    A3 -- last activation value, output of the forward propagation, of shape (1,1)\n",
        "    cache -- tuple, information stored for computing the backward propagation\n",
        "    \"\"\"\n",
        "    \n",
        "    np.random.seed(1)\n",
        "    \n",
        "    # retrieve parameters\n",
        "    W1 = parameters[\"W1\"]\n",
        "    b1 = parameters[\"b1\"]\n",
        "    W2 = parameters[\"W2\"]\n",
        "    b2 = parameters[\"b2\"]\n",
        "    W3 = parameters[\"W3\"]\n",
        "    b3 = parameters[\"b3\"]\n",
        "    \n",
        "    # LINEAR -> Batch-Norm -> RELU -> LINEAR -> Batch-Norm -> RELU -> LINEAR -> Batch-Norm -> SOFTMAX\n",
        "    Z1 = np.dot(W1, X) + b1\n",
        "    A1 = relu(Z1)\n",
        "    D1 = np.random.rand(A1.shape[0],A1.shape[1])      # Step 1: initialize matrix D1 = np.random.rand(..., ...)\n",
        "    D1 = (D1 < keep_prob)                             # Step 2: convert entries of D1 to 0 or 1 (using keep_prob as the threshold)\n",
        "    A1 = A1*D1                                        # Step 3: shut down some neurons of A1\n",
        "    A1 = A1/keep_prob                                 # Step 4: scale the value of neurons that haven't been shut down\n",
        "\n",
        "    Z2 = np.dot(W2, A1) + b2\n",
        "    A2 = relu(Z2)\n",
        "\n",
        "    D2 = np.random.rand(A2.shape[0],A2.shape[1])       # Step 1: initialize matrix D2 = np.random.rand(..., ...)\n",
        "    D2 = (D2 < keep_prob)                              # Step 2: convert entries of D2 to 0 or 1 (using keep_prob as the threshold)\n",
        "    A2 = A2*D2                                         # Step 3: shut down some neurons of A2\n",
        "    A2 = A2/keep_prob                                  # Step 4: scale the value of neurons that haven't been shut down\n",
        "\n",
        "    Z3 = np.dot(W3, A2) + b3\n",
        "    A3 = softmax(Z3.T).T\n",
        "    \n",
        "    cache = (Z1, D1, A1, W1, b1, Z2, D2, A2, W2, b2, Z3, A3, W3, b3)\n",
        "    \n",
        "    return A3, cache"
      ],
      "execution_count": 0,
      "outputs": []
    },
    {
      "metadata": {
        "id": "4Gu045DdX1bn",
        "colab_type": "code",
        "colab": {}
      },
      "cell_type": "code",
      "source": [
        "def backward_propagation_with_dropout_L2(X, Y, cache, keep_prob, lambd):\n",
        "    \"\"\"\n",
        "    Implements the backward propagation of our baseline model to which we added dropout.\n",
        "    \n",
        "    Arguments:\n",
        "    X -- input dataset, of shape (2, number of examples)\n",
        "    Y -- \"true\" labels vector, of shape (output size, number of examples)\n",
        "    cache -- cache output from forward_propagation_with_dropout()\n",
        "    keep_prob - probability of keeping a neuron active during drop-out, scalar\n",
        "    \n",
        "    Returns:\n",
        "    gradients -- A dictionary with the gradients with respect to each parameter, activation and pre-activation variables\n",
        "    \"\"\"\n",
        "    \n",
        "    m = X.shape[1]\n",
        "    (Z1, D1, A1, W1, b1, Z2, D2, A2, W2, b2, Z3, A3, W3, b3) = cache\n",
        "    \n",
        "    dZ3 = A3 - Y\n",
        "    dW3 = 1./m * np.dot(dZ3, A2.T) + W3*lambd/m\n",
        "    db3 = 1./m * np.sum(dZ3, axis=1, keepdims = True)\n",
        "    dA2 = np.dot(W3.T, dZ3)\n",
        "\n",
        "    dA2 = dA2*D2                                    # Step 1: Apply mask D2 to shut down the same neurons as during the forward propagation\n",
        "    dA2 = dA2/keep_prob                             # Step 2: Scale the value of neurons that haven't been shut down\n",
        "    dZ2 = np.multiply(dA2, np.int64(A2 > 0))\n",
        "    dW2 = 1./m * np.dot(dZ2, A1.T) + W2*lambd/m\n",
        "    db2 = 1./m * np.sum(dZ2, axis=1, keepdims = True)\n",
        "    \n",
        "    dA1 = np.dot(W2.T, dZ2)\n",
        "\n",
        "    dA1 = dA1*D1                                   # Step 1: Apply mask D1 to shut down the same neurons as during the forward propagation\n",
        "    dA1 = dA1/keep_prob                            # Step 2: Scale the value of neurons that haven't been shut down\n",
        "    dZ1 = np.multiply(dA1, np.int64(A1 > 0))\n",
        "    dW1 = 1./m * np.dot(dZ1, X.T) + W1*lambd/m\n",
        "    db1 = 1./m * np.sum(dZ1, axis=1, keepdims = True)\n",
        "    \n",
        "    gradients = {\"dZ3\": dZ3, \"dW3\": dW3, \"db3\": db3,\"dA2\": dA2,\n",
        "                 \"dZ2\": dZ2, \"dW2\": dW2, \"db2\": db2, \"dA1\": dA1, \n",
        "                 \"dZ1\": dZ1, \"dW1\": dW1, \"db1\": db1}\n",
        "    \n",
        "    return gradients"
      ],
      "execution_count": 0,
      "outputs": []
    },
    {
      "metadata": {
        "id": "LCk_-d5XX1bp",
        "colab_type": "code",
        "colab": {}
      },
      "cell_type": "code",
      "source": [
        "def backward_propagation_with_dropout(X, Y, cache, keep_prob):\n",
        "    \"\"\"\n",
        "    Implements the backward propagation of our baseline model to which we added dropout.\n",
        "    \n",
        "    Arguments:\n",
        "    X -- input dataset, of shape (2, number of examples)\n",
        "    Y -- \"true\" labels vector, of shape (output size, number of examples)\n",
        "    cache -- cache output from forward_propagation_with_dropout()\n",
        "    keep_prob - probability of keeping a neuron active during drop-out, scalar\n",
        "    \n",
        "    Returns:\n",
        "    gradients -- A dictionary with the gradients with respect to each parameter, activation and pre-activation variables\n",
        "    \"\"\"\n",
        "    \n",
        "    m = X.shape[1]\n",
        "    (Z1, D1, A1, W1, b1, Z2, D2, A2, W2, b2, Z3, A3, W3, b3) = cache\n",
        "    \n",
        "    dZ3 = A3 - Y\n",
        "    dW3 = 1./m * np.dot(dZ3, A2.T)\n",
        "    db3 = 1./m * np.sum(dZ3, axis=1, keepdims = True)\n",
        "    dA2 = np.dot(W3.T, dZ3)\n",
        "\n",
        "    dA2 = dA2*D2                                     # Step 1: Apply mask D2 to shut down the same neurons as during the forward propagation\n",
        "    dA2 = dA2/keep_prob                              # Step 2: Scale the value of neurons that haven't been shut down\n",
        "    dZ2 = np.multiply(dA2, np.int64(A2 > 0))\n",
        "    dW2 = 1./m * np.dot(dZ2, A1.T)\n",
        "    db2 = 1./m * np.sum(dZ2, axis=1, keepdims = True)\n",
        "    \n",
        "    dA1 = np.dot(W2.T, dZ2)\n",
        "    dA1 = dA1*D1                                     # Step 1: Apply mask D1 to shut down the same neurons as during the forward propagation\n",
        "    dA1 = dA1/keep_prob                              # Step 2: Scale the value of neurons that haven't been shut down\n",
        "    dZ1 = np.multiply(dA1, np.int64(A1 > 0))\n",
        "    dW1 = 1./m * np.dot(dZ1, X.T)\n",
        "    db1 = 1./m * np.sum(dZ1, axis=1, keepdims = True)\n",
        "    \n",
        "    gradients = {\"dZ3\": dZ3, \"dW3\": dW3, \"db3\": db3,\"dA2\": dA2,\n",
        "                 \"dZ2\": dZ2, \"dW2\": dW2, \"db2\": db2, \"dA1\": dA1, \n",
        "                 \"dZ1\": dZ1, \"dW1\": dW1, \"db1\": db1}\n",
        "    \n",
        "    return gradients"
      ],
      "execution_count": 0,
      "outputs": []
    },
    {
      "metadata": {
        "id": "ybYH6tyAX1br",
        "colab_type": "code",
        "colab": {}
      },
      "cell_type": "code",
      "source": [
        "def calculate_batch_mean_var(x, eps):\n",
        "\n",
        "  N, D = x.shape\n",
        "\n",
        "  #step1: calculate mean\n",
        "  mu = 1./N * np.sum(x, axis = 0)\n",
        "\n",
        "  #step2: subtract mean vector of every trainings example\n",
        "  xmu = x - mu\n",
        "\n",
        "  #step3: following the lower branch - calculation denominator\n",
        "  sq = xmu ** 2\n",
        "\n",
        "  #step4: calculate variance\n",
        "  var = 1./N * np.sum(sq, axis = 0)\n",
        "\n",
        "  #step5: add eps for numerical stability, then sqrt\n",
        "  sqrtvar = np.sqrt(var + eps)\n",
        "\n",
        "  #step6: invert sqrtwar\n",
        "  ivar = 1./sqrtvar\n",
        "\n",
        "  return mu,ivar,sqrtvar,var,eps"
      ],
      "execution_count": 0,
      "outputs": []
    },
    {
      "metadata": {
        "id": "LijlKGJmX1bu",
        "colab_type": "code",
        "colab": {}
      },
      "cell_type": "code",
      "source": [
        "def update_parameters_with_gd(parameters, grads, learning_rate):\n",
        "    \"\"\"\n",
        "    Update parameters using one step of gradient descent\n",
        "    \n",
        "    Arguments:\n",
        "    parameters -- python dictionary containing your parameters to be updated:\n",
        "                    parameters['W' + str(l)] = Wl\n",
        "                    parameters['b' + str(l)] = bl\n",
        "    grads -- python dictionary containing your gradients to update each parameters:\n",
        "                    grads['dW' + str(l)] = dWl\n",
        "                    grads['db' + str(l)] = dbl\n",
        "    learning_rate -- the learning rate, scalar.\n",
        "    \n",
        "    Returns:\n",
        "    parameters -- python dictionary containing your updated parameters \n",
        "    \"\"\"\n",
        "\n",
        "    L = len(parameters) // 2 # number of layers in the neural networks\n",
        "\n",
        "    # Update rule for each parameter\n",
        "    for l in range(L):\n",
        "        parameters[\"W\" + str(l+1)] = parameters['W' + str(l+1)] - learning_rate*grads['dW' + str(l+1)]\n",
        "        parameters[\"b\" + str(l+1)] = parameters['b' + str(l+1)] - learning_rate*grads['db' + str(l+1)]\n",
        "\n",
        "        \n",
        "    return parameters"
      ],
      "execution_count": 0,
      "outputs": []
    },
    {
      "metadata": {
        "id": "OguFjoULX1bw",
        "colab_type": "code",
        "colab": {}
      },
      "cell_type": "code",
      "source": [
        "def random_mini_batches(X, Y, mini_batch_size = 64, seed = 0):\n",
        "    \"\"\"\n",
        "    Creates a list of random minibatches from (X, Y)\n",
        "    \n",
        "    Arguments:\n",
        "    X -- input data, of shape (input size, number of examples)\n",
        "    Y -- true \"label\" vector (containing 0 if cat, 1 if non-cat), of shape (1, number of examples)\n",
        "    mini_batch_size - size of the mini-batches, integer\n",
        "    seed -- this is only for the purpose of grading, so that you're \"random minibatches are the same as ours.\n",
        "    \n",
        "    Returns:\n",
        "    mini_batches -- list of synchronous (mini_batch_X, mini_batch_Y)\n",
        "    \"\"\"\n",
        "    \n",
        "    m = X.shape[1]                  # number of training examples\n",
        "    mini_batches = []\n",
        "    np.random.seed(seed)\n",
        "    \n",
        "    # Step 1: Shuffle (X, Y)\n",
        "    permutation = list(np.random.permutation(m))\n",
        "    shuffled_X = X[:, permutation]\n",
        "    shuffled_Y = Y[:, permutation].reshape((Y.shape[0],m))\n",
        "\n",
        "    # Step 2: Partition (shuffled_X, shuffled_Y). Minus the end case.\n",
        "    num_complete_minibatches = math.floor(m/mini_batch_size) # number of mini batches of size mini_batch_size in your partitionning\n",
        "    for k in range(0, num_complete_minibatches):\n",
        "        mini_batch_X = shuffled_X[:, k * mini_batch_size : k * mini_batch_size + mini_batch_size]\n",
        "        mini_batch_Y = shuffled_Y[:, k * mini_batch_size : k * mini_batch_size + mini_batch_size]\n",
        "        mini_batch = (mini_batch_X, mini_batch_Y)\n",
        "        mini_batches.append(mini_batch)\n",
        "    \n",
        "    # Handling the end case (last mini-batch < mini_batch_size)\n",
        "    if m % mini_batch_size != 0:\n",
        "        mini_batch_X = shuffled_X[:, num_complete_minibatches * mini_batch_size : m]\n",
        "        mini_batch_Y = shuffled_Y[:, num_complete_minibatches * mini_batch_size : m]\n",
        "        mini_batch = (mini_batch_X, mini_batch_Y)\n",
        "        mini_batches.append(mini_batch)\n",
        "    \n",
        "    return mini_batches"
      ],
      "execution_count": 0,
      "outputs": []
    },
    {
      "metadata": {
        "id": "BeLmYhKjX1bx",
        "colab_type": "code",
        "colab": {}
      },
      "cell_type": "code",
      "source": [
        "def initialize_velocity(parameters):\n",
        "    \"\"\"\n",
        "    Initializes the velocity as a python dictionary with:\n",
        "                - keys: \"dW1\", \"db1\", ..., \"dWL\", \"dbL\" \n",
        "                - values: numpy arrays of zeros of the same shape as the corresponding gradients/parameters.\n",
        "    Arguments:\n",
        "    parameters -- python dictionary containing your parameters.\n",
        "                    parameters['W' + str(l)] = Wl\n",
        "                    parameters['b' + str(l)] = bl\n",
        "    \n",
        "    Returns:\n",
        "    v -- python dictionary containing the current velocity.\n",
        "                    v['dW' + str(l)] = velocity of dWl\n",
        "                    v['db' + str(l)] = velocity of dbl\n",
        "    \"\"\"\n",
        "    \n",
        "    L = len(parameters) // 2 # number of layers in the neural networks\n",
        "    v = {}\n",
        "    \n",
        "    # Initialize velocity\n",
        "    for l in range(L):\n",
        "        \n",
        "        v[\"dW\" + str(l+1)] = np.zeros(parameters['W' + str(l+1)].shape)\n",
        "        v[\"db\" + str(l+1)] = np.zeros(parameters['b' + str(l+1)].shape)\n",
        "   \n",
        "    return v"
      ],
      "execution_count": 0,
      "outputs": []
    },
    {
      "metadata": {
        "id": "f-24k-FjX1bz",
        "colab_type": "code",
        "colab": {}
      },
      "cell_type": "code",
      "source": [
        "def update_parameters_with_momentum(parameters, grads, v, beta, learning_rate):\n",
        "    \"\"\"\n",
        "    Update parameters using Momentum\n",
        "    \n",
        "    Arguments:\n",
        "    parameters -- python dictionary containing your parameters:\n",
        "                    parameters['W' + str(l)] = Wl\n",
        "                    parameters['b' + str(l)] = bl\n",
        "    grads -- python dictionary containing your gradients for each parameters:\n",
        "                    grads['dW' + str(l)] = dWl\n",
        "                    grads['db' + str(l)] = dbl\n",
        "    v -- python dictionary containing the current velocity:\n",
        "                    v['dW' + str(l)] = ...\n",
        "                    v['db' + str(l)] = ...\n",
        "    beta -- the momentum hyperparameter, scalar\n",
        "    learning_rate -- the learning rate, scalar\n",
        "    \n",
        "    Returns:\n",
        "    parameters -- python dictionary containing your updated parameters \n",
        "    v -- python dictionary containing your updated velocities\n",
        "    \"\"\"\n",
        "\n",
        "    L = len(parameters) // 2 # number of layers in the neural networks\n",
        "    \n",
        "    # Momentum update for each parameter\n",
        "    for l in range(L):\n",
        "    \n",
        "        # compute velocities\n",
        "        v[\"dW\" + str(l+1)] = beta*v[\"dW\" + str(l+1)]+(1-beta)*grads['dW' + str(l+1)]\n",
        "        v[\"db\" + str(l+1)] = beta*v[\"db\" + str(l+1)]+(1-beta)*grads['db' + str(l+1)]\n",
        "        # update parameters\n",
        "        parameters[\"W\" + str(l+1)] = parameters[\"W\" + str(l+1)]-learning_rate*v[\"dW\" + str(l+1)]\n",
        "        parameters[\"b\" + str(l+1)] = parameters[\"b\" + str(l+1)]-learning_rate*v[\"db\" + str(l+1)]\n",
        "     \n",
        "    return parameters, v"
      ],
      "execution_count": 0,
      "outputs": []
    },
    {
      "metadata": {
        "id": "vp4LFDZoX1b0",
        "colab_type": "code",
        "colab": {}
      },
      "cell_type": "code",
      "source": [
        "def initialize_adam(parameters) :\n",
        "    \"\"\"\n",
        "    Initializes v and s as two python dictionaries with:\n",
        "                - keys: \"dW1\", \"db1\", ..., \"dWL\", \"dbL\" \n",
        "                - values: numpy arrays of zeros of the same shape as the corresponding gradients/parameters.\n",
        "    \n",
        "    Arguments:\n",
        "    parameters -- python dictionary containing your parameters.\n",
        "                    parameters[\"W\" + str(l)] = Wl\n",
        "                    parameters[\"b\" + str(l)] = bl\n",
        "    \n",
        "    Returns: \n",
        "    v -- python dictionary that will contain the exponentially weighted average of the gradient.\n",
        "                    v[\"dW\" + str(l)] = ...\n",
        "                    v[\"db\" + str(l)] = ...\n",
        "    s -- python dictionary that will contain the exponentially weighted average of the squared gradient.\n",
        "                    s[\"dW\" + str(l)] = ...\n",
        "                    s[\"db\" + str(l)] = ...\n",
        "\n",
        "    \"\"\"\n",
        "    \n",
        "    L = len(parameters) // 2 # number of layers in the neural networks\n",
        "    v = {}\n",
        "    s = {}\n",
        "    \n",
        "    # Initialize v, s. Input: \"parameters\". Outputs: \"v, s\".\n",
        "    for l in range(L):\n",
        "\n",
        "        v[\"dW\" + str(l+1)] = np.zeros(parameters['W' + str(l+1)].shape)\n",
        "        v[\"db\" + str(l+1)] = np.zeros(parameters['b' + str(l+1)].shape)\n",
        "        s[\"dW\" + str(l+1)] = np.zeros(parameters['W' + str(l+1)].shape)\n",
        "        s[\"db\" + str(l+1)] = np.zeros(parameters['b' + str(l+1)].shape)\n",
        "    \n",
        "    return v, s"
      ],
      "execution_count": 0,
      "outputs": []
    },
    {
      "metadata": {
        "id": "qyNG0ag2X1b1",
        "colab_type": "code",
        "colab": {}
      },
      "cell_type": "code",
      "source": [
        "def update_parameters_with_adam(parameters, grads, v, s, t, learning_rate = 0.01,\n",
        "                                beta1 = 0.9, beta2 = 0.999,  epsilon = 1e-8):\n",
        "    \"\"\"\n",
        "    Update parameters using Adam\n",
        "    \n",
        "    Arguments:\n",
        "    parameters -- python dictionary containing your parameters:\n",
        "                    parameters['W' + str(l)] = Wl\n",
        "                    parameters['b' + str(l)] = bl\n",
        "    grads -- python dictionary containing your gradients for each parameters:\n",
        "                    grads['dW' + str(l)] = dWl\n",
        "                    grads['db' + str(l)] = dbl\n",
        "    v -- Adam variable, moving average of the first gradient, python dictionary\n",
        "    s -- Adam variable, moving average of the squared gradient, python dictionary\n",
        "    learning_rate -- the learning rate, scalar.\n",
        "    beta1 -- Exponential decay hyperparameter for the first moment estimates \n",
        "    beta2 -- Exponential decay hyperparameter for the second moment estimates \n",
        "    epsilon -- hyperparameter preventing division by zero in Adam updates\n",
        "\n",
        "    Returns:\n",
        "    parameters -- python dictionary containing your updated parameters \n",
        "    v -- Adam variable, moving average of the first gradient, python dictionary\n",
        "    s -- Adam variable, moving average of the squared gradient, python dictionary\n",
        "    \"\"\"\n",
        "    \n",
        "    L = len(parameters) // 2                 # number of layers in the neural networks\n",
        "    v_corrected = {}                         # Initializing first moment estimate, python dictionary\n",
        "    s_corrected = {}                         # Initializing second moment estimate, python dictionary\n",
        "    \n",
        "    # Perform Adam update on all parameters\n",
        "    for l in range(L):\n",
        "        # Moving average of the gradients. Inputs: \"v, grads, beta1\". Output: \"v\".\n",
        "\n",
        "        v[\"dW\" + str(l+1)] = beta1*v[\"dW\" + str(l+1)]+(1-beta1)*grads[\"dW\" + str(l+1)]\n",
        "        v[\"db\" + str(l+1)] = beta1*v[\"db\" + str(l+1)]+(1-beta1)*grads[\"db\" + str(l+1)]\n",
        "\n",
        "        # Compute bias-corrected first moment estimate. Inputs: \"v, beta1, t\". Output: \"v_corrected\".\n",
        "\n",
        "        v_corrected[\"dW\" + str(l+1)] = v[\"dW\" + str(l+1)]/(1-beta1**(t))\n",
        "        v_corrected[\"db\" + str(l+1)] = v[\"db\" + str(l+1)]/(1-beta1**(t))\n",
        "\n",
        "        # Moving average of the squared gradients. Inputs: \"s, grads, beta2\". Output: \"s\".\n",
        "        s[\"dW\" + str(l+1)] = beta2*s[\"dW\" + str(l+1)]+(1-beta2)*(grads[\"dW\" + str(l+1)]**2)\n",
        "        s[\"db\" + str(l+1)] = beta2*s[\"db\" + str(l+1)]+(1-beta2)*(grads[\"db\" + str(l+1)]**2)\n",
        "\n",
        "        # Compute bias-corrected second raw moment estimate. Inputs: \"s, beta2, t\". Output: \"s_corrected\".\n",
        "        s_corrected[\"dW\" + str(l+1)] = s[\"dW\" + str(l+1)]/(1-beta2**(t))\n",
        "        s_corrected[\"db\" + str(l+1)] = s[\"db\" + str(l+1)]/(1-beta2**(t))\n",
        "\n",
        "        # Update parameters. Inputs: \"parameters, learning_rate, v_corrected, s_corrected, epsilon\". Output: \"parameters\".\n",
        "        parameters[\"W\" + str(l+1)] = parameters[\"W\" + str(l+1)]-learning_rate*v_corrected[\"dW\" + str(l+1)]/((s_corrected[\"dW\" + str(l+1)])**(1/2)+epsilon)\n",
        "        parameters[\"b\" + str(l+1)] = parameters[\"b\" + str(l+1)]-learning_rate*v_corrected[\"db\" + str(l+1)]/((s_corrected[\"db\" + str(l+1)])**(1/2)+epsilon)\n",
        "\n",
        "    return parameters, v, s"
      ],
      "execution_count": 0,
      "outputs": []
    },
    {
      "metadata": {
        "id": "vXYLOWCcX1b3",
        "colab_type": "code",
        "colab": {}
      },
      "cell_type": "code",
      "source": [
        "def model(X, Y, layers_dims, optimizer, regularizer = \"No\",keep_prob = 0.85, lambd = 0.7, learning_rate_init = 0.0007, mini_batch_size = 64, beta = 0.9,\n",
        "          beta1 = 0.9, beta2 = 0.999,  epsilon = 1e-8, num_epochs = 10000, print_cost = True):\n",
        "    \"\"\"\n",
        "    3-layer neural network model which can be run in different optimizer modes.\n",
        "    \n",
        "    Arguments:\n",
        "    X -- input data, of shape (2, number of examples)\n",
        "    Y -- true \"label\" vector (1 for blue dot / 0 for red dot), of shape (1, number of examples)\n",
        "    layers_dims -- python list, containing the size of each layer\n",
        "    learning_rate -- the learning rate, scalar.\n",
        "    mini_batch_size -- the size of a mini batch\n",
        "    beta -- Momentum hyperparameter\n",
        "    beta1 -- Exponential decay hyperparameter for the past gradients estimates \n",
        "    beta2 -- Exponential decay hyperparameter for the past squared gradients estimates \n",
        "    epsilon -- hyperparameter preventing division by zero in Adam updates\n",
        "    num_epochs -- number of epochs\n",
        "    print_cost -- True to print the cost every 1000 epochs\n",
        "\n",
        "    Returns:\n",
        "    parameters -- python dictionary containing your updated parameters \n",
        "    \"\"\"\n",
        "\n",
        "    L = len(layers_dims)             # number of layers in the neural networks\n",
        "    costs = []                       # to keep track of the cost\n",
        "    t = 0                            # initializing the counter required for Adam update\n",
        "    seed = 10                        # For grading purposes, so that your \"random\" minibatches are the same as ours\n",
        "    \n",
        "    # Initialize parameters\n",
        "    parameters = initialize_parameters(layers_dims)\n",
        "\n",
        "    # Initialize the optimizer\n",
        "    if optimizer == \"gd\":\n",
        "        pass # no initialization required for gradient descent\n",
        "    elif optimizer == \"momentum\":\n",
        "        v = initialize_velocity(parameters)\n",
        "    elif optimizer == \"adam\":\n",
        "        v, s = initialize_adam(parameters)\n",
        "    \n",
        "    # Optimization loop\n",
        "    for i in range(num_epochs):\n",
        "        \n",
        "        # Define the random minibatches. We increment the seed to reshuffle differently the dataset after each epoch\n",
        "        seed = seed + 1\n",
        "        minibatches = random_mini_batches(X, Y, mini_batch_size, seed)\n",
        "        learning_rate = learning_rate_init \n",
        "        #learning_rate = learning_rate_init * (1/(1+0.01*i))\n",
        "        \n",
        "        for minibatch in minibatches:\n",
        "\n",
        "            # Select a minibatch\n",
        "            (minibatch_X, minibatch_Y) = minibatch\n",
        "\n",
        "            # Forward propagation\n",
        "            if regularizer == \"DropOut\":\n",
        "                a3, caches = forward_propagation_with_dropout(minibatch_X, parameters,keep_prob)\n",
        "            elif regularizer == \"DropOut_L2\":\n",
        "                a3, caches = forward_propagation_with_dropout(minibatch_X, parameters,keep_prob)\n",
        "            else:\n",
        "                a3, caches = forward_propagation(minibatch_X, parameters)\n",
        "\n",
        "            # Compute cost\n",
        "            cost = compute_cost(a3, minibatch_Y)\n",
        "\n",
        "            # Backward propagation\n",
        "            if regularizer == \"No\":\n",
        "                grads = backward_propagation(minibatch_X, minibatch_Y, caches)\n",
        "            elif regularizer == \"L2\":\n",
        "                grads = backward_propagation_with_regularization(minibatch_X, minibatch_Y, caches,lambd)\n",
        "            elif regularizer == \"DropOut\":\n",
        "                grads = backward_propagation_with_dropout(minibatch_X, minibatch_Y, caches, keep_prob)\n",
        "            elif regularizer == \"DropOut_L2\":\n",
        "                grads = backward_propagation_with_dropout_L2(minibatch_X, minibatch_Y, caches, keep_prob, lambd)\n",
        "                \n",
        "            # Update parameters\n",
        "            if optimizer == \"gd\":\n",
        "                parameters = update_parameters_with_gd(parameters, grads, learning_rate)\n",
        "            elif optimizer == \"momentum\":\n",
        "                parameters, v = update_parameters_with_momentum(parameters, grads, v, beta, learning_rate)\n",
        "            elif optimizer == \"adam\":\n",
        "                t = t + 1 # Adam counter\n",
        "                parameters, v, s = update_parameters_with_adam(parameters, grads, v, s,\n",
        "                                                               t, learning_rate, beta1, beta2,  epsilon)\n",
        "        \n",
        "        # Print the cost every 1000 epoch\n",
        "        if print_cost and i % 200 == 0:\n",
        "            print (\"Cost after epoch %i: %f\" %(i, cost))\n",
        "        if print_cost and i % 200 == 0:\n",
        "            costs.append(cost)\n",
        "                \n",
        "    # plot the cost\n",
        "    if print_cost:\n",
        "        plt.plot(costs)\n",
        "        plt.ylabel('cost')\n",
        "        plt.xlabel('epochs (per 200)')\n",
        "        plt.title(\"Learning rate = \" + str(learning_rate))\n",
        "        plt.show()\n",
        "\n",
        "    return parameters"
      ],
      "execution_count": 0,
      "outputs": []
    },
    {
      "metadata": {
        "id": "chL8yL1SX1b5",
        "colab_type": "code",
        "colab": {
          "base_uri": "https://localhost:8080/",
          "height": 1745
        },
        "outputId": "b7338817-0b3a-49a4-b07d-56b627fa2ade"
      },
      "cell_type": "code",
      "source": [
        "# train 3-layer model - Adam\n",
        "for i in (0.3, 0.5, 0.7, 1):\n",
        "    for j in (0, 0.3, 0.5, 0.7, 1):\n",
        "        print(\"keep_prob: \" + str(i))\n",
        "        print(\"lambd: \" + str(j))\n",
        "        layers_dims = [train_X.shape[0], 25, 12, 10]\n",
        "        parameters = model(train_X, train_Y, layers_dims, optimizer = \"adam\",num_epochs = 200,mini_batch_size = 500,regularizer=\"DropOut_L2\",keep_prob=i, lambd=j,print_cost = False)\n",
        "\n",
        "        # Predict\n",
        "        predict(train_X, train_Y, parameters)\n",
        "        predict(dev_X, dev_Y, parameters)\n",
        "        print()"
      ],
      "execution_count": 22,
      "outputs": [
        {
          "output_type": "stream",
          "text": [
            "keep_prob: 0.3\n",
            "lambd: 0\n",
            "Accuracy: 0.74086\n",
            "Accuracy: 0.737\n",
            "\n",
            "keep_prob: 0.3\n",
            "lambd: 0.3\n",
            "Accuracy: 0.75666\n",
            "Accuracy: 0.7519\n",
            "\n",
            "keep_prob: 0.3\n",
            "lambd: 0.5\n",
            "Accuracy: 0.7591\n",
            "Accuracy: 0.7528\n",
            "\n",
            "keep_prob: 0.3\n",
            "lambd: 0.7\n",
            "Accuracy: 0.74628\n",
            "Accuracy: 0.7396\n",
            "\n",
            "keep_prob: 0.3\n",
            "lambd: 1\n",
            "Accuracy: 0.74276\n",
            "Accuracy: 0.7326\n",
            "\n",
            "keep_prob: 0.5\n",
            "lambd: 0\n",
            "Accuracy: 0.84516\n",
            "Accuracy: 0.8302\n",
            "\n",
            "keep_prob: 0.5\n",
            "lambd: 0.3\n",
            "Accuracy: 0.85024\n",
            "Accuracy: 0.8358\n",
            "\n",
            "keep_prob: 0.5\n",
            "lambd: 0.5\n",
            "Accuracy: 0.84796\n",
            "Accuracy: 0.8383\n",
            "\n",
            "keep_prob: 0.5\n",
            "lambd: 0.7\n",
            "Accuracy: 0.84722\n",
            "Accuracy: 0.8352\n",
            "\n",
            "keep_prob: 0.5\n",
            "lambd: 1\n",
            "Accuracy: 0.84424\n",
            "Accuracy: 0.8349\n",
            "\n",
            "keep_prob: 0.7\n",
            "lambd: 0\n",
            "Accuracy: 0.8767\n",
            "Accuracy: 0.8549\n",
            "\n",
            "keep_prob: 0.7\n",
            "lambd: 0.3\n",
            "Accuracy: 0.87382\n",
            "Accuracy: 0.8573\n",
            "\n",
            "keep_prob: 0.7\n",
            "lambd: 0.5\n",
            "Accuracy: 0.87226\n",
            "Accuracy: 0.8585\n",
            "\n",
            "keep_prob: 0.7\n",
            "lambd: 0.7\n",
            "Accuracy: 0.87046\n",
            "Accuracy: 0.8562\n",
            "\n",
            "keep_prob: 0.7\n",
            "lambd: 1\n",
            "Accuracy: 0.87124\n",
            "Accuracy: 0.8557\n",
            "\n",
            "keep_prob: 1\n",
            "lambd: 0\n",
            "Accuracy: 0.91226\n",
            "Accuracy: 0.87\n",
            "\n",
            "keep_prob: 1\n",
            "lambd: 0.3\n",
            "Accuracy: 0.9099\n",
            "Accuracy: 0.8722\n",
            "\n",
            "keep_prob: 1\n",
            "lambd: 0.5\n",
            "Accuracy: 0.9102\n",
            "Accuracy: 0.877\n",
            "\n",
            "keep_prob: 1\n",
            "lambd: 0.7\n",
            "Accuracy: 0.90966\n",
            "Accuracy: 0.8749\n",
            "\n",
            "keep_prob: 1\n",
            "lambd: 1\n",
            "Accuracy: 0.9075\n",
            "Accuracy: 0.8733\n",
            "\n"
          ],
          "name": "stdout"
        }
      ]
    },
    {
      "metadata": {
        "id": "9ewdFvkNX1b7",
        "colab_type": "code",
        "colab": {
          "base_uri": "https://localhost:8080/",
          "height": 1681
        },
        "outputId": "d6784dbe-2dc3-4bc9-fff4-6e080fb38e3b"
      },
      "cell_type": "code",
      "source": [
        "# train 3-layer model - Adam + Dropout_L2\n",
        "layers_dims = [train_X.shape[0], 25, 12, 10]\n",
        "parameters = model(train_X, train_Y, layers_dims, optimizer = \"adam\",num_epochs = 2000,mini_batch_size = 500,learning_rate_init = 0.0007,regularizer = \"DropOut_L2\",keep_prob=0.7, lambd=0.7)\n",
        "\n",
        "# Predict\n",
        "print(\"Adam + Dropout with Weight Decay\")\n",
        "print(\"Training Accuarcy: \")\n",
        "prediction = predict(train_X, train_Y, parameters)\n",
        "print(\"Test Accuarcy: \")\n",
        "prediction = predict(dev_X, dev_Y, parameters)\n",
        "print()\n",
        "      \n",
        "# train 3-layer model - Minibatch SGD with Momentum + Dropout_L2\n",
        "layers_dims = [train_X.shape[0], 25, 12, 10]\n",
        "parameters = model(train_X, train_Y, layers_dims, optimizer = \"momentum\",num_epochs = 2000,mini_batch_size = 500,learning_rate_init = 0.0007,regularizer = \"DropOut_L2\",keep_prob=0.7, lambd=0.7)\n",
        "\n",
        "# Predict\n",
        "print(\"Minibatch GD with Momentum + Dropout with Weight Decay\")\n",
        "print(\"Training Accuarcy: \")\n",
        "prediction = predict(train_X, train_Y, parameters)\n",
        "print(\"Test Accuarcy: \")\n",
        "prediction = predict(dev_X, dev_Y, parameters)\n",
        "print()\n",
        "      \n",
        "# train 3-layer model - GD + Dropout_L2\n",
        "layers_dims = [train_X.shape[0], 25, 12, 10]\n",
        "parameters = model(train_X, train_Y, layers_dims, optimizer = \"gd\",num_epochs = 2000,mini_batch_size = 50000,learning_rate_init = 1,regularizer = \"DropOut_L2\",keep_prob=0.7, lambd=0.7)\n",
        "\n",
        "# Predict\n",
        "print(\"GD + Dropout with Weight Decay\")\n",
        "print(\"Training Accuarcy: \")\n",
        "prediction = predict(train_X, train_Y, parameters)\n",
        "print(\"Test Accuarcy: \")\n",
        "prediction = predict(dev_X, dev_Y, parameters)\n",
        "print()"
      ],
      "execution_count": 23,
      "outputs": [
        {
          "output_type": "stream",
          "text": [
            "Cost after epoch 0: 2.420343\n",
            "Cost after epoch 200: 0.591254\n",
            "Cost after epoch 400: 0.621093\n",
            "Cost after epoch 600: 0.528806\n",
            "Cost after epoch 800: 0.505958\n",
            "Cost after epoch 1000: 0.566414\n",
            "Cost after epoch 1200: 0.629294\n",
            "Cost after epoch 1400: 0.544092\n",
            "Cost after epoch 1600: 0.637554\n",
            "Cost after epoch 1800: 0.532338\n"
          ],
          "name": "stdout"
        },
        {
          "output_type": "display_data",
          "data": {
            "image/png": "[encoded data removed]",
            "text/plain": [
              "<Figure size 432x288 with 1 Axes>"
            ]
          },
          "metadata": {
            "tags": []
          }
        },
        {
          "output_type": "stream",
          "text": [
            "Adam + Dropout with Weight Decay\n",
            "Training Accuarcy: \n",
            "Accuracy: 0.8726\n",
            "Test Accuarcy: \n",
            "Accuracy: 0.8576\n",
            "\n",
            "Cost after epoch 0: 3.394507\n",
            "Cost after epoch 200: 2.058688\n",
            "Cost after epoch 400: 1.513385\n",
            "Cost after epoch 600: 1.103505\n",
            "Cost after epoch 800: 0.960150\n",
            "Cost after epoch 1000: 0.941455\n",
            "Cost after epoch 1200: 0.849683\n",
            "Cost after epoch 1400: 0.811663\n",
            "Cost after epoch 1600: 0.853811\n",
            "Cost after epoch 1800: 0.741121\n"
          ],
          "name": "stdout"
        },
        {
          "output_type": "display_data",
          "data": {
            "image/png": "[encoded data removed]",
            "text/plain": [
              "<Figure size 432x288 with 1 Axes>"
            ]
          },
          "metadata": {
            "tags": []
          }
        },
        {
          "output_type": "stream",
          "text": [
            "Minibatch GD with Momentum + Dropout with Weight Decay\n",
            "Training Accuarcy: \n",
            "Accuracy: 0.8487\n",
            "Test Accuarcy: \n",
            "Accuracy: 0.839\n",
            "\n",
            "Cost after epoch 0: 3.541993\n",
            "Cost after epoch 200: 0.776602\n",
            "Cost after epoch 400: 0.710163\n",
            "Cost after epoch 600: 0.688293\n",
            "Cost after epoch 800: 0.676919\n",
            "Cost after epoch 1000: 0.661074\n",
            "Cost after epoch 1200: 0.653452\n",
            "Cost after epoch 1400: 0.647494\n",
            "Cost after epoch 1600: 0.645885\n",
            "Cost after epoch 1800: 0.642680\n"
          ],
          "name": "stdout"
        },
        {
          "output_type": "display_data",
          "data": {
            "image/png": "[encoded data removed]",
            "text/plain": [
              "<Figure size 432x288 with 1 Axes>"
            ]
          },
          "metadata": {
            "tags": []
          }
        },
        {
          "output_type": "stream",
          "text": [
            "GD + Dropout with Weight Decay\n",
            "Training Accuarcy: \n",
            "Accuracy: 0.8721\n",
            "Test Accuarcy: \n",
            "Accuracy: 0.8538\n",
            "\n"
          ],
          "name": "stdout"
        }
      ]
    },
    {
      "metadata": {
        "id": "xmrV7oXVX1b9",
        "colab_type": "code",
        "colab": {
          "base_uri": "https://localhost:8080/",
          "height": 1681
        },
        "outputId": "ad7d9073-b918-4b85-f9c2-1d6f1f4b07b0"
      },
      "cell_type": "code",
      "source": [
        "# train 3-layer model - Adam + Dropout\n",
        "layers_dims = [train_X.shape[0], 25, 12, 10]\n",
        "parameters = model(train_X, train_Y, layers_dims, optimizer = \"adam\",num_epochs = 2000,mini_batch_size = 500,learning_rate_init = 0.0007,regularizer = \"DropOut\",keep_prob=0.7, lambd=0.7)\n",
        "\n",
        "# Predict\n",
        "print(\"Adam + Dropout\")\n",
        "print(\"Training Accuarcy: \")\n",
        "prediction = predict(train_X, train_Y, parameters)\n",
        "print(\"Test Accuarcy: \")\n",
        "prediction = predict(dev_X, dev_Y, parameters)\n",
        "print()\n",
        "      \n",
        "# train 3-layer model - Minibatch SGD with Momentum + Dropout\n",
        "layers_dims = [train_X.shape[0], 25, 12, 10]\n",
        "parameters = model(train_X, train_Y, layers_dims, optimizer = \"momentum\",num_epochs = 2000,mini_batch_size = 500,learning_rate_init = 0.0007,regularizer = \"DropOut\",keep_prob=0.7, lambd=0.7)\n",
        "\n",
        "# Predict\n",
        "print(\"Minibatch GD with Momentum + Dropout\")\n",
        "print(\"Training Accuarcy: \")\n",
        "prediction = predict(train_X, train_Y, parameters)\n",
        "print(\"Test Accuarcy: \")\n",
        "prediction = predict(dev_X, dev_Y, parameters)\n",
        "print()\n",
        "      \n",
        "# train 3-layer model - GD + Dropout\n",
        "layers_dims = [train_X.shape[0], 25, 12, 10]\n",
        "parameters = model(train_X, train_Y, layers_dims, optimizer = \"gd\",num_epochs = 2000,mini_batch_size = 50000,learning_rate_init = 1,regularizer = \"DropOut\",keep_prob=0.7, lambd=0.7)\n",
        "\n",
        "# Predict\n",
        "print(\"GD + Dropout\")\n",
        "print(\"Training Accuarcy: \")\n",
        "prediction = predict(train_X, train_Y,parameters)\n",
        "print(\"Test Accuarcy: \")\n",
        "prediction = predict(dev_X, dev_Y,parameters)\n",
        "print()"
      ],
      "execution_count": 24,
      "outputs": [
        {
          "output_type": "stream",
          "text": [
            "Cost after epoch 0: 2.422078\n",
            "Cost after epoch 200: 0.573662\n",
            "Cost after epoch 400: 0.570179\n",
            "Cost after epoch 600: 0.523743\n",
            "Cost after epoch 800: 0.463934\n",
            "Cost after epoch 1000: 0.502629\n",
            "Cost after epoch 1200: 0.621784\n",
            "Cost after epoch 1400: 0.489546\n",
            "Cost after epoch 1600: 0.584955\n",
            "Cost after epoch 1800: 0.501599\n"
          ],
          "name": "stdout"
        },
        {
          "output_type": "display_data",
          "data": {
            "image/png": "[encoded data removed]",
            "text/plain": [
              "<Figure size 432x288 with 1 Axes>"
            ]
          },
          "metadata": {
            "tags": []
          }
        },
        {
          "output_type": "stream",
          "text": [
            "Adam + Dropout\n",
            "Training Accuarcy: \n",
            "Accuracy: 0.88134\n",
            "Test Accuarcy: \n",
            "Accuracy: 0.8551\n",
            "\n",
            "Cost after epoch 0: 3.394953\n",
            "Cost after epoch 200: 2.062895\n",
            "Cost after epoch 400: 1.526991\n",
            "Cost after epoch 600: 1.115422\n",
            "Cost after epoch 800: 0.967908\n",
            "Cost after epoch 1000: 0.948743\n",
            "Cost after epoch 1200: 0.856454\n",
            "Cost after epoch 1400: 0.825399\n",
            "Cost after epoch 1600: 0.862938\n",
            "Cost after epoch 1800: 0.740203\n"
          ],
          "name": "stdout"
        },
        {
          "output_type": "display_data",
          "data": {
            "image/png": "[encoded data removed]",
            "text/plain": [
              "<Figure size 432x288 with 1 Axes>"
            ]
          },
          "metadata": {
            "tags": []
          }
        },
        {
          "output_type": "stream",
          "text": [
            "Minibatch GD with Momentum + Dropout\n",
            "Training Accuarcy: \n",
            "Accuracy: 0.84786\n",
            "Test Accuarcy: \n",
            "Accuracy: 0.8396\n",
            "\n",
            "Cost after epoch 0: 3.541993\n",
            "Cost after epoch 200: 0.776179\n",
            "Cost after epoch 400: 0.710489\n",
            "Cost after epoch 600: 0.691311\n",
            "Cost after epoch 800: 0.676565\n",
            "Cost after epoch 1000: 0.661043\n",
            "Cost after epoch 1200: 0.652976\n",
            "Cost after epoch 1400: 0.646880\n",
            "Cost after epoch 1600: 0.653720\n",
            "Cost after epoch 1800: 0.641867\n"
          ],
          "name": "stdout"
        },
        {
          "output_type": "display_data",
          "data": {
            "image/png": "[encoded data removed]",
            "text/plain": [
              "<Figure size 432x288 with 1 Axes>"
            ]
          },
          "metadata": {
            "tags": []
          }
        },
        {
          "output_type": "stream",
          "text": [
            "GD + Dropout\n",
            "Training Accuarcy: \n",
            "Accuracy: 0.87218\n",
            "Test Accuarcy: \n",
            "Accuracy: 0.854\n",
            "\n"
          ],
          "name": "stdout"
        }
      ]
    },
    {
      "metadata": {
        "id": "Ao7IQ0SzX1b_",
        "colab_type": "code",
        "colab": {
          "base_uri": "https://localhost:8080/",
          "height": 1681
        },
        "outputId": "d84c442f-efac-4773-e02c-96973d93c9d9"
      },
      "cell_type": "code",
      "source": [
        "# train 3-layer model - Adam + L2\n",
        "layers_dims = [train_X.shape[0], 25, 12, 10]\n",
        "parameters = model(train_X, train_Y, layers_dims, optimizer = \"adam\",num_epochs = 2000,mini_batch_size = 500,learning_rate_init = 0.0007,regularizer = \"L2\",keep_prob=0.7, lambd=0.7)\n",
        "\n",
        "# Predict\n",
        "print(\"Adam +  Weight Decay\")\n",
        "print(\"Training Accuarcy: \")\n",
        "prediction = predict(train_X, train_Y, parameters)\n",
        "print(\"Test Accuarcy: \")\n",
        "prediction = predict(dev_X, dev_Y, parameters)\n",
        "print()\n",
        "      \n",
        "# train 3-layer model - Minibatch SGD with Momentum + L2\n",
        "layers_dims = [train_X.shape[0], 25, 12, 10]\n",
        "parameters = model(train_X, train_Y, layers_dims, optimizer = \"momentum\",num_epochs = 2000,mini_batch_size = 500,learning_rate_init = 0.0007,regularizer = \"L2\",keep_prob=0.7, lambd=0.7)\n",
        "\n",
        "# Predict\n",
        "print(\"Minibatch GD with Momentum +  Weight Decay\")\n",
        "print(\"Training Accuarcy: \")\n",
        "prediction = predict(train_X, train_Y, parameters)\n",
        "print(\"Test Accuarcy: \")\n",
        "prediction = predict(dev_X, dev_Y, parameters)\n",
        "print()\n",
        "      \n",
        "# train 3-layer model - GD + L2\n",
        "layers_dims = [train_X.shape[0], 25, 12, 10]\n",
        "parameters = model(train_X, train_Y, layers_dims, optimizer = \"gd\",num_epochs = 2000,mini_batch_size = 50000,learning_rate_init = 1,regularizer = \"L2\",keep_prob=0.7, lambd=0.7)\n",
        "\n",
        "# Predict\n",
        "print(\"GD + Weight Decay\")\n",
        "print(\"Training Accuarcy: \")\n",
        "prediction = predict(train_X, train_Y, parameters)\n",
        "print(\"Test Accuarcy: \")\n",
        "prediction = predict(dev_X, dev_Y, parameters)\n",
        "print()"
      ],
      "execution_count": 25,
      "outputs": [
        {
          "output_type": "stream",
          "text": [
            "Cost after epoch 0: 2.116333\n",
            "Cost after epoch 200: 0.245526\n",
            "Cost after epoch 400: 0.290585\n",
            "Cost after epoch 600: 0.241968\n",
            "Cost after epoch 800: 0.235090\n",
            "Cost after epoch 1000: 0.220085\n",
            "Cost after epoch 1200: 0.286705\n",
            "Cost after epoch 1400: 0.226565\n",
            "Cost after epoch 1600: 0.274037\n",
            "Cost after epoch 1800: 0.196169\n"
          ],
          "name": "stdout"
        },
        {
          "output_type": "display_data",
          "data": {
            "image/png": "[encoded data removed]",
            "text/plain": [
              "<Figure size 432x288 with 1 Axes>"
            ]
          },
          "metadata": {
            "tags": []
          }
        },
        {
          "output_type": "stream",
          "text": [
            "Adam +  Weight Decay\n",
            "Training Accuarcy: \n",
            "Accuracy: 0.91748\n",
            "Test Accuarcy: \n",
            "Accuracy: 0.8767\n",
            "\n",
            "Cost after epoch 0: 2.902706\n",
            "Cost after epoch 200: 1.101780\n",
            "Cost after epoch 400: 0.537194\n",
            "Cost after epoch 600: 0.458084\n",
            "Cost after epoch 800: 0.400944\n",
            "Cost after epoch 1000: 0.377157\n",
            "Cost after epoch 1200: 0.380575\n",
            "Cost after epoch 1400: 0.345621\n",
            "Cost after epoch 1600: 0.381185\n",
            "Cost after epoch 1800: 0.309435\n"
          ],
          "name": "stdout"
        },
        {
          "output_type": "display_data",
          "data": {
            "image/png": "[encoded data removed]",
            "text/plain": [
              "<Figure size 432x288 with 1 Axes>"
            ]
          },
          "metadata": {
            "tags": []
          }
        },
        {
          "output_type": "stream",
          "text": [
            "Minibatch GD with Momentum +  Weight Decay\n",
            "Training Accuarcy: \n",
            "Accuracy: 0.87572\n",
            "Test Accuarcy: \n",
            "Accuracy: 0.8601\n",
            "\n",
            "Cost after epoch 0: 3.012311\n",
            "Cost after epoch 200: 0.357243\n",
            "Cost after epoch 400: 0.304069\n",
            "Cost after epoch 600: 0.289858\n",
            "Cost after epoch 800: 0.274943\n",
            "Cost after epoch 1000: 0.263582\n",
            "Cost after epoch 1200: 0.258629\n",
            "Cost after epoch 1400: 0.254583\n",
            "Cost after epoch 1600: 0.253820\n",
            "Cost after epoch 1800: 0.248895\n"
          ],
          "name": "stdout"
        },
        {
          "output_type": "display_data",
          "data": {
            "image/png": "[encoded data removed]",
            "text/plain": [
              "<Figure size 432x288 with 1 Axes>"
            ]
          },
          "metadata": {
            "tags": []
          }
        },
        {
          "output_type": "stream",
          "text": [
            "GD + Weight Decay\n",
            "Training Accuarcy: \n",
            "Accuracy: 0.90856\n",
            "Test Accuarcy: \n",
            "Accuracy: 0.8626\n",
            "\n"
          ],
          "name": "stdout"
        }
      ]
    },
    {
      "metadata": {
        "id": "NVWe9ce4X1cA",
        "colab_type": "code",
        "colab": {
          "base_uri": "https://localhost:8080/",
          "height": 1715
        },
        "outputId": "46f12eca-282a-4ec9-8e4e-bea1933f6530"
      },
      "cell_type": "code",
      "source": [
        "# train 3-layer model - Adam \n",
        "layers_dims = [train_X.shape[0], 25, 12, 10]\n",
        "parameters = model(train_X, train_Y, layers_dims, optimizer = \"adam\",num_epochs = 2000,mini_batch_size = 500,learning_rate_init = 0.0007,regularizer = \"No\",keep_prob=0.7, lambd=0.7)\n",
        "\n",
        "# Predict\n",
        "print(\"Adam\")\n",
        "print(\"Training Accuarcy: \")\n",
        "prediction = predict(train_X, train_Y, parameters)\n",
        "print(\"Test Accuarcy: \")\n",
        "prediction = predict(dev_X, dev_Y, parameters)\n",
        "print()\n",
        "      \n",
        "# train 3-layer model - Minibatch SGD with Momentum \n",
        "layers_dims = [train_X.shape[0], 25, 12, 10]\n",
        "parameters = model(train_X, train_Y, layers_dims, optimizer = \"momentum\",num_epochs = 2000,mini_batch_size = 500,learning_rate_init = 0.0007,regularizer = \"No\",keep_prob=0.7, lambd=0.7)\n",
        "\n",
        "# Predict\n",
        "print(\"Minibatch GD with Momentum\")\n",
        "print(\"Training Accuarcy: \")\n",
        "prediction = predict(train_X, train_Y, parameters)\n",
        "print(\"Test Accuarcy: \")\n",
        "prediction = predict(dev_X, dev_Y, parameters)\n",
        "print()\n",
        "      \n",
        "# train 3-layer model - GD \n",
        "layers_dims = [train_X.shape[0], 25, 12, 10]\n",
        "parameters = model(train_X, train_Y, layers_dims, optimizer = \"gd\",num_epochs = 2000,mini_batch_size = 50000,learning_rate_init = 1,regularizer = \"No\",keep_prob=0.7, lambd=0.7)\n",
        "\n",
        "# Predict\n",
        "print(\"GD\")\n",
        "print(\"Training Accuarcy: \")\n",
        "prediction = predict(train_X, train_Y, parameters)\n",
        "print(\"Test Accuarcy: \")\n",
        "prediction = predict(dev_X, dev_Y, parameters)\n",
        "print()"
      ],
      "execution_count": 26,
      "outputs": [
        {
          "output_type": "stream",
          "text": [
            "Cost after epoch 0: 2.117079\n",
            "Cost after epoch 200: 0.232042\n",
            "Cost after epoch 400: 0.273714\n",
            "Cost after epoch 600: 0.232249\n",
            "Cost after epoch 800: 0.201516\n",
            "Cost after epoch 1000: 0.218650\n",
            "Cost after epoch 1200: 0.290346\n",
            "Cost after epoch 1400: 0.192359\n",
            "Cost after epoch 1600: 0.211897\n",
            "Cost after epoch 1800: 0.176397\n"
          ],
          "name": "stdout"
        },
        {
          "output_type": "display_data",
          "data": {
            "image/png": "[encoded data removed]",
            "text/plain": [
              "<Figure size 432x288 with 1 Axes>"
            ]
          },
          "metadata": {
            "tags": []
          }
        },
        {
          "output_type": "stream",
          "text": [
            "Adam\n",
            "Training Accuarcy: \n",
            "Accuracy: 0.92214\n",
            "Test Accuarcy: \n",
            "Accuracy: 0.8626\n",
            "\n",
            "Cost after epoch 0: 0.661358\n",
            "Cost after epoch 200: 0.205962\n",
            "Cost after epoch 400: 0.252869\n",
            "Cost after epoch 600: 0.240768\n",
            "Cost after epoch 800: 0.186645\n",
            "Cost after epoch 1000: 0.208984\n",
            "Cost after epoch 1200: 0.223656\n",
            "Cost after epoch 1400: 0.202783\n",
            "Cost after epoch 1600: 0.266457\n",
            "Cost after epoch 1800: 0.194316\n"
          ],
          "name": "stdout"
        },
        {
          "output_type": "display_data",
          "data": {
            "image/png": "[encoded data removed]",
            "text/plain": [
              "<Figure size 432x288 with 1 Axes>"
            ]
          },
          "metadata": {
            "tags": []
          }
        },
        {
          "output_type": "stream",
          "text": [
            "Minibatch GD with Momentum\n",
            "Training Accuarcy: \n",
            "Accuracy: 0.91928\n",
            "Test Accuarcy: \n",
            "Accuracy: 0.8593\n",
            "\n",
            "Cost after epoch 0: 3.012311\n"
          ],
          "name": "stdout"
        },
        {
          "output_type": "stream",
          "text": [
            "/usr/local/lib/python3.6/dist-packages/ipykernel_launcher.py:16: RuntimeWarning: divide by zero encountered in log\n",
            "  app.launch_new_instance()\n"
          ],
          "name": "stderr"
        },
        {
          "output_type": "stream",
          "text": [
            "Cost after epoch 200: inf\n",
            "Cost after epoch 400: inf\n",
            "Cost after epoch 600: inf\n",
            "Cost after epoch 800: inf\n",
            "Cost after epoch 1000: inf\n",
            "Cost after epoch 1200: inf\n",
            "Cost after epoch 1400: inf\n",
            "Cost after epoch 1600: inf\n",
            "Cost after epoch 1800: inf\n"
          ],
          "name": "stdout"
        },
        {
          "output_type": "display_data",
          "data": {
            "image/png": "[encoded data removed]",
            "text/plain": [
              "<Figure size 432x288 with 1 Axes>"
            ]
          },
          "metadata": {
            "tags": []
          }
        },
        {
          "output_type": "stream",
          "text": [
            "GD\n",
            "Training Accuarcy: \n",
            "Accuracy: 0.10024\n",
            "Test Accuarcy: \n",
            "Accuracy: 0.0988\n",
            "\n"
          ],
          "name": "stdout"
        }
      ]
    },
    {
      "metadata": {
        "id": "tvqvDV8u_93t",
        "colab_type": "code",
        "colab": {
          "base_uri": "https://localhost:8080/",
          "height": 589
        },
        "outputId": "80dfe018-652a-43b8-b307-a2f99e5362bb"
      },
      "cell_type": "code",
      "source": [
        "#ADD SGD\n",
        "\n",
        "# train 3-layer model - SGD with Momentum \n",
        "layers_dims = [train_X.shape[0], 25, 12, 10]\n",
        "parameters = model(train_X, train_Y, layers_dims, optimizer = \"momentum\",num_epochs = 2000,mini_batch_size = 1,learning_rate_init = 0.0007,regularizer = \"No\",keep_prob=0.7, lambd=0.7)\n",
        "\n",
        "# Predict\n",
        "print(\"SGD with Momentum\")\n",
        "print(\"Training Accuarcy: \")\n",
        "prediction = predict(train_X, train_Y, parameters)\n",
        "print(\"Test Accuarcy: \")\n",
        "prediction = predict(dev_X, dev_Y, parameters)\n",
        "print()\n",
        "\n",
        "# train 3-layer model - Minibatch SGD with Momentum + L2\n",
        "layers_dims = [train_X.shape[0], 25, 12, 10]\n",
        "parameters = model(train_X, train_Y, layers_dims, optimizer = \"momentum\",num_epochs = 2000,mini_batch_size = 1,learning_rate_init = 0.0007,regularizer = \"L2\",keep_prob=0.7, lambd=0.7)\n",
        "\n",
        "# Predict\n",
        "print(\"SGD with Momentum +  Weight Decay\")\n",
        "print(\"Training Accuarcy: \")\n",
        "prediction = predict(train_X, train_Y, parameters)\n",
        "print(\"Test Accuarcy: \")\n",
        "prediction = predict(dev_X, dev_Y, parameters)\n",
        "print()\n",
        "      \n",
        "  \n",
        "# train 3-layer model - Minibatch SGD with Momentum + Dropout\n",
        "layers_dims = [train_X.shape[0], 25, 12, 10]\n",
        "parameters = model(train_X, train_Y, layers_dims, optimizer = \"momentum\",num_epochs = 2000,mini_batch_size = 1,learning_rate_init = 0.0007,regularizer = \"DropOut\",keep_prob=0.7, lambd=0.7)\n",
        "\n",
        "# Predict\n",
        "print(\"SGD with Momentum + Dropout\")\n",
        "print(\"Training Accuarcy: \")\n",
        "prediction = predict(train_X, train_Y, parameters)\n",
        "print(\"Test Accuarcy: \")\n",
        "prediction = predict(dev_X, dev_Y, parameters)\n",
        "print()\n",
        "\n",
        "# Predict\n",
        "print(\"SGD with Momentum + Dropout with Weight Decay\")\n",
        "print(\"Training Accuarcy: \")\n",
        "prediction = predict(train_X, train_Y, parameters)\n",
        "print(\"Test Accuarcy: \")\n",
        "prediction = predict(dev_X, dev_Y, parameters)\n",
        "print()\n",
        "      \n",
        "# train 3-layer model - GD + Dropout_L2\n",
        "layers_dims = [train_X.shape[0], 25, 12, 10]\n",
        "parameters = model(train_X, train_Y, layers_dims, optimizer = \"gd\",num_epochs = 2000,mini_batch_size = 1,learning_rate_init = 1,regularizer = \"DropOut_L2\",keep_prob=0.7, lambd=0.7)\n"
      ],
      "execution_count": 0,
      "outputs": [
        {
          "output_type": "stream",
          "text": [
            "Cost after epoch 0: 0.015460\n",
            "Cost after epoch 200: 0.000000\n",
            "Cost after epoch 400: 0.000002\n",
            "Cost after epoch 600: 0.002418\n",
            "Cost after epoch 800: 0.004173\n",
            "Cost after epoch 1000: 0.000000\n",
            "Cost after epoch 1200: 0.069170\n",
            "Cost after epoch 1400: 0.000000\n",
            "Cost after epoch 1600: 0.014117\n",
            "Cost after epoch 1800: 0.000000\n"
          ],
          "name": "stdout"
        },
        {
          "output_type": "display_data",
          "data": {
            "image/png": "[encoded data removed]",
            "text/plain": [
              "<Figure size 432x288 with 1 Axes>"
            ]
          },
          "metadata": {
            "tags": []
          }
        },
        {
          "output_type": "stream",
          "text": [
            "SGD with Momentum\n",
            "Training Accuarcy: \n",
            "Accuracy: 0.92218\n",
            "Test Accuarcy: \n",
            "Accuracy: 0.8605\n",
            "\n",
            "Cost after epoch 0: 2.283764\n"
          ],
          "name": "stdout"
        }
      ]
    },
    {
      "metadata": {
        "id": "hQQ01UV6Op2Y",
        "colab_type": "text"
      },
      "cell_type": "markdown",
      "source": [
        "##**OUTPUT PREDICTIONS OF MOST SUCCESSFUL MODEL - ADAM + WEIGHT DECAY - NO BATCH NORM **##"
      ]
    },
    {
      "metadata": {
        "id": "GkVJZ3MDOqny",
        "colab_type": "code",
        "colab": {
          "base_uri": "https://localhost:8080/",
          "height": 451
        },
        "outputId": "4cbd7d3e-236f-4f33-bcb6-130de03c0471"
      },
      "cell_type": "code",
      "source": [
        "# train 3-layer model - Adam + L2\n",
        "layers_dims = [train_X.shape[0], 25, 12, 10]\n",
        "parameters = model(train_X, train_Y, layers_dims, optimizer = \"adam\",num_epochs = 200,mini_batch_size = 500,learning_rate_init = 0.0007,regularizer = \"L2\",keep_prob=0.7, lambd=0.7)\n",
        "\n",
        "# Predict\n",
        "print(\"Adam +  Weight Decay\")\n",
        "print(\"Training Accuarcy: \")\n",
        "prediction = predict(train_X, train_Y, parameters)\n",
        "print(\"Test Accuarcy: \")\n",
        "prediction = predict(dev_X, dev_Y, parameters)\n",
        "print()\n",
        "\n",
        "shape=prediction.shape\n",
        "print(shape)\n",
        "preds = np.argmax(prediction, axis=0)\n",
        "print(preds[:10000])\n",
        "\n",
        "import h5py\n",
        "import numpy as np\n",
        "\n",
        "with h5py.File('predictions.hdf5', 'w') as f:\n",
        "    dset = f.create_dataset(\"default\", data=preds)\n"
      ],
      "execution_count": 58,
      "outputs": [
        {
          "output_type": "stream",
          "text": [
            "Cost after epoch 0: 2.116333\n"
          ],
          "name": "stdout"
        },
        {
          "output_type": "display_data",
          "data": {
            "image/png": "[encoded data removed]",
            "text/plain": [
              "<Figure size 432x288 with 1 Axes>"
            ]
          },
          "metadata": {
            "tags": []
          }
        },
        {
          "output_type": "stream",
          "text": [
            "Adam +  Weight Decay\n",
            "Training Accuarcy: \n",
            "Accuracy: 0.90966\n",
            "Test Accuarcy: \n",
            "Accuracy: 0.8749\n",
            "\n",
            "(10, 10000)\n",
            "[9 2 1 ... 3 0 5]\n"
          ],
          "name": "stdout"
        }
      ]
    },
    {
      "metadata": {
        "id": "EGvz_MWaSsvV",
        "colab_type": "code",
        "colab": {}
      },
      "cell_type": "code",
      "source": [
        "from google.colab import files\n",
        "files.download('predictions.hdf5')"
      ],
      "execution_count": 0,
      "outputs": []
    }
  ]
}